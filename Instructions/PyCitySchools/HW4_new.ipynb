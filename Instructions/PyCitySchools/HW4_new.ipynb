{
 "cells": [
  {
   "cell_type": "markdown",
   "metadata": {},
   "source": [
    "### Note\n",
    "* Instructions have been included for each segment. You do not have to follow them exactly, but they are included to help you think through the steps."
   ]
  },
  {
   "cell_type": "code",
   "execution_count": 1,
   "metadata": {},
   "outputs": [
    {
     "data": {
      "text/html": [
       "<div>\n",
       "<style scoped>\n",
       "    .dataframe tbody tr th:only-of-type {\n",
       "        vertical-align: middle;\n",
       "    }\n",
       "\n",
       "    .dataframe tbody tr th {\n",
       "        vertical-align: top;\n",
       "    }\n",
       "\n",
       "    .dataframe thead th {\n",
       "        text-align: right;\n",
       "    }\n",
       "</style>\n",
       "<table border=\"1\" class=\"dataframe\">\n",
       "  <thead>\n",
       "    <tr style=\"text-align: right;\">\n",
       "      <th></th>\n",
       "      <th>Student ID</th>\n",
       "      <th>student_name</th>\n",
       "      <th>gender</th>\n",
       "      <th>grade</th>\n",
       "      <th>school_name</th>\n",
       "      <th>reading_score</th>\n",
       "      <th>math_score</th>\n",
       "      <th>School ID</th>\n",
       "      <th>type</th>\n",
       "      <th>size</th>\n",
       "      <th>budget</th>\n",
       "    </tr>\n",
       "  </thead>\n",
       "  <tbody>\n",
       "    <tr>\n",
       "      <th>0</th>\n",
       "      <td>0</td>\n",
       "      <td>Paul Bradley</td>\n",
       "      <td>M</td>\n",
       "      <td>9th</td>\n",
       "      <td>Huang High School</td>\n",
       "      <td>66</td>\n",
       "      <td>79</td>\n",
       "      <td>0</td>\n",
       "      <td>District</td>\n",
       "      <td>2917</td>\n",
       "      <td>1910635</td>\n",
       "    </tr>\n",
       "    <tr>\n",
       "      <th>1</th>\n",
       "      <td>1</td>\n",
       "      <td>Victor Smith</td>\n",
       "      <td>M</td>\n",
       "      <td>12th</td>\n",
       "      <td>Huang High School</td>\n",
       "      <td>94</td>\n",
       "      <td>61</td>\n",
       "      <td>0</td>\n",
       "      <td>District</td>\n",
       "      <td>2917</td>\n",
       "      <td>1910635</td>\n",
       "    </tr>\n",
       "    <tr>\n",
       "      <th>2</th>\n",
       "      <td>2</td>\n",
       "      <td>Kevin Rodriguez</td>\n",
       "      <td>M</td>\n",
       "      <td>12th</td>\n",
       "      <td>Huang High School</td>\n",
       "      <td>90</td>\n",
       "      <td>60</td>\n",
       "      <td>0</td>\n",
       "      <td>District</td>\n",
       "      <td>2917</td>\n",
       "      <td>1910635</td>\n",
       "    </tr>\n",
       "    <tr>\n",
       "      <th>3</th>\n",
       "      <td>3</td>\n",
       "      <td>Dr. Richard Scott</td>\n",
       "      <td>M</td>\n",
       "      <td>12th</td>\n",
       "      <td>Huang High School</td>\n",
       "      <td>67</td>\n",
       "      <td>58</td>\n",
       "      <td>0</td>\n",
       "      <td>District</td>\n",
       "      <td>2917</td>\n",
       "      <td>1910635</td>\n",
       "    </tr>\n",
       "    <tr>\n",
       "      <th>4</th>\n",
       "      <td>4</td>\n",
       "      <td>Bonnie Ray</td>\n",
       "      <td>F</td>\n",
       "      <td>9th</td>\n",
       "      <td>Huang High School</td>\n",
       "      <td>97</td>\n",
       "      <td>84</td>\n",
       "      <td>0</td>\n",
       "      <td>District</td>\n",
       "      <td>2917</td>\n",
       "      <td>1910635</td>\n",
       "    </tr>\n",
       "  </tbody>\n",
       "</table>\n",
       "</div>"
      ],
      "text/plain": [
       "   Student ID       student_name gender grade        school_name  \\\n",
       "0           0       Paul Bradley      M   9th  Huang High School   \n",
       "1           1       Victor Smith      M  12th  Huang High School   \n",
       "2           2    Kevin Rodriguez      M  12th  Huang High School   \n",
       "3           3  Dr. Richard Scott      M  12th  Huang High School   \n",
       "4           4         Bonnie Ray      F   9th  Huang High School   \n",
       "\n",
       "   reading_score  math_score  School ID      type  size   budget  \n",
       "0             66          79          0  District  2917  1910635  \n",
       "1             94          61          0  District  2917  1910635  \n",
       "2             90          60          0  District  2917  1910635  \n",
       "3             67          58          0  District  2917  1910635  \n",
       "4             97          84          0  District  2917  1910635  "
      ]
     },
     "execution_count": 1,
     "metadata": {},
     "output_type": "execute_result"
    }
   ],
   "source": [
    "# Dependencies and Setup\n",
    "import pandas as pd\n",
    "\n",
    "# File to Load (Remember to Change These)\n",
    "school_data_to_load = \"Resources/schools_complete.csv\"\n",
    "student_data_to_load = \"Resources/students_complete.csv\"\n",
    "\n",
    "# Read School and Student Data File and store into Pandas DataFrames\n",
    "school_data = pd.read_csv(school_data_to_load)\n",
    "student_data = pd.read_csv(student_data_to_load)\n",
    "\n",
    "# Combine the data into a single dataset.  \n",
    "school_data_complete = pd.merge(student_data, school_data, how=\"left\", on=[\"school_name\", \"school_name\"])\n",
    "df = school_data_complete.copy()\n",
    "df.head()"
   ]
  },
  {
   "cell_type": "code",
   "execution_count": 7,
   "metadata": {},
   "outputs": [
    {
     "data": {
      "text/html": [
       "<div>\n",
       "<style scoped>\n",
       "    .dataframe tbody tr th:only-of-type {\n",
       "        vertical-align: middle;\n",
       "    }\n",
       "\n",
       "    .dataframe tbody tr th {\n",
       "        vertical-align: top;\n",
       "    }\n",
       "\n",
       "    .dataframe thead th {\n",
       "        text-align: right;\n",
       "    }\n",
       "</style>\n",
       "<table border=\"1\" class=\"dataframe\">\n",
       "  <thead>\n",
       "    <tr style=\"text-align: right;\">\n",
       "      <th></th>\n",
       "      <th>Student ID</th>\n",
       "      <th>reading_score</th>\n",
       "      <th>math_score</th>\n",
       "      <th>School ID</th>\n",
       "      <th>size</th>\n",
       "      <th>budget</th>\n",
       "    </tr>\n",
       "  </thead>\n",
       "  <tbody>\n",
       "    <tr>\n",
       "      <th>count</th>\n",
       "      <td>39170.000000</td>\n",
       "      <td>39170.00000</td>\n",
       "      <td>39170.000000</td>\n",
       "      <td>39170.000000</td>\n",
       "      <td>39170.000000</td>\n",
       "      <td>3.917000e+04</td>\n",
       "    </tr>\n",
       "    <tr>\n",
       "      <th>mean</th>\n",
       "      <td>19584.500000</td>\n",
       "      <td>81.87784</td>\n",
       "      <td>78.985371</td>\n",
       "      <td>6.978172</td>\n",
       "      <td>3332.957110</td>\n",
       "      <td>2.117241e+06</td>\n",
       "    </tr>\n",
       "    <tr>\n",
       "      <th>std</th>\n",
       "      <td>11307.549359</td>\n",
       "      <td>10.23958</td>\n",
       "      <td>12.309968</td>\n",
       "      <td>4.444329</td>\n",
       "      <td>1323.914069</td>\n",
       "      <td>8.749987e+05</td>\n",
       "    </tr>\n",
       "    <tr>\n",
       "      <th>min</th>\n",
       "      <td>0.000000</td>\n",
       "      <td>63.00000</td>\n",
       "      <td>55.000000</td>\n",
       "      <td>0.000000</td>\n",
       "      <td>427.000000</td>\n",
       "      <td>2.480870e+05</td>\n",
       "    </tr>\n",
       "    <tr>\n",
       "      <th>25%</th>\n",
       "      <td>9792.250000</td>\n",
       "      <td>73.00000</td>\n",
       "      <td>69.000000</td>\n",
       "      <td>3.000000</td>\n",
       "      <td>1858.000000</td>\n",
       "      <td>1.081356e+06</td>\n",
       "    </tr>\n",
       "    <tr>\n",
       "      <th>50%</th>\n",
       "      <td>19584.500000</td>\n",
       "      <td>82.00000</td>\n",
       "      <td>79.000000</td>\n",
       "      <td>7.000000</td>\n",
       "      <td>2949.000000</td>\n",
       "      <td>1.910635e+06</td>\n",
       "    </tr>\n",
       "    <tr>\n",
       "      <th>75%</th>\n",
       "      <td>29376.750000</td>\n",
       "      <td>91.00000</td>\n",
       "      <td>89.000000</td>\n",
       "      <td>11.000000</td>\n",
       "      <td>4635.000000</td>\n",
       "      <td>3.022020e+06</td>\n",
       "    </tr>\n",
       "    <tr>\n",
       "      <th>max</th>\n",
       "      <td>39169.000000</td>\n",
       "      <td>99.00000</td>\n",
       "      <td>99.000000</td>\n",
       "      <td>14.000000</td>\n",
       "      <td>4976.000000</td>\n",
       "      <td>3.124928e+06</td>\n",
       "    </tr>\n",
       "  </tbody>\n",
       "</table>\n",
       "</div>"
      ],
      "text/plain": [
       "         Student ID  reading_score    math_score     School ID          size  \\\n",
       "count  39170.000000    39170.00000  39170.000000  39170.000000  39170.000000   \n",
       "mean   19584.500000       81.87784     78.985371      6.978172   3332.957110   \n",
       "std    11307.549359       10.23958     12.309968      4.444329   1323.914069   \n",
       "min        0.000000       63.00000     55.000000      0.000000    427.000000   \n",
       "25%     9792.250000       73.00000     69.000000      3.000000   1858.000000   \n",
       "50%    19584.500000       82.00000     79.000000      7.000000   2949.000000   \n",
       "75%    29376.750000       91.00000     89.000000     11.000000   4635.000000   \n",
       "max    39169.000000       99.00000     99.000000     14.000000   4976.000000   \n",
       "\n",
       "             budget  \n",
       "count  3.917000e+04  \n",
       "mean   2.117241e+06  \n",
       "std    8.749987e+05  \n",
       "min    2.480870e+05  \n",
       "25%    1.081356e+06  \n",
       "50%    1.910635e+06  \n",
       "75%    3.022020e+06  \n",
       "max    3.124928e+06  "
      ]
     },
     "execution_count": 7,
     "metadata": {},
     "output_type": "execute_result"
    }
   ],
   "source": [
    "df.describe()"
   ]
  },
  {
   "cell_type": "code",
   "execution_count": 8,
   "metadata": {},
   "outputs": [
    {
     "name": "stdout",
     "output_type": "stream",
     "text": [
      "Total schools = 15\n"
     ]
    }
   ],
   "source": [
    "## District Summary\n",
    "\n",
    "# Calculate the total number of schools\n",
    "\n",
    "def count_unique(obj):\n",
    "    return len(obj.unique())\n",
    "\n",
    "total_schools = count_unique(df[\"school_name\"])\n",
    "print(f\"Total schools = {total_schools}\")"
   ]
  },
  {
   "cell_type": "code",
   "execution_count": 9,
   "metadata": {},
   "outputs": [
    {
     "name": "stdout",
     "output_type": "stream",
     "text": [
      "Total students = 39170\n"
     ]
    }
   ],
   "source": [
    "## District Summary\n",
    "\n",
    "# Calculate the total number of students\n",
    "\n",
    "total_students = df[\"student_name\"].count()\n",
    "print(f\"Total students = {total_students}\")"
   ]
  },
  {
   "cell_type": "code",
   "execution_count": 10,
   "metadata": {},
   "outputs": [
    {
     "name": "stdout",
     "output_type": "stream",
     "text": [
      "Total budget = 24649428\n"
     ]
    }
   ],
   "source": [
    "## District Summary\n",
    "\n",
    "# Calculate the total budget\n",
    "\n",
    "def sum_unique(obj):\n",
    "    return sum(obj.unique())\n",
    "\n",
    "total_budget = sum_unique(df[\"budget\"])\n",
    "print(f\"Total budget = {total_budget}\")"
   ]
  },
  {
   "cell_type": "code",
   "execution_count": 11,
   "metadata": {},
   "outputs": [
    {
     "name": "stdout",
     "output_type": "stream",
     "text": [
      "Average math score = 78.98537145774827\n"
     ]
    }
   ],
   "source": [
    "## District Summary\n",
    "\n",
    "# Calculate the average math score\n",
    "\n",
    "def calc_average(obj):\n",
    "    return obj.mean()\n",
    "\n",
    "avg_mscore = calc_average(df[\"math_score\"])\n",
    "print(f\"Average math score = {avg_mscore}\")"
   ]
  },
  {
   "cell_type": "code",
   "execution_count": 12,
   "metadata": {},
   "outputs": [
    {
     "name": "stdout",
     "output_type": "stream",
     "text": [
      "Average reading score = 81.87784018381414\n"
     ]
    }
   ],
   "source": [
    "## District Summary\n",
    "\n",
    "# Calculate the average reading score\n",
    "\n",
    "avg_rscore = calc_average(df[\"reading_score\"])\n",
    "print(f\"Average reading score = {avg_rscore}\")"
   ]
  },
  {
   "cell_type": "code",
   "execution_count": 20,
   "metadata": {},
   "outputs": [
    {
     "name": "stdout",
     "output_type": "stream",
     "text": [
      "39170\n",
      "True\n",
      "Total pass math = 29370\n",
      "Total fail math = 9800\n",
      "Total % pass math = 74.9808526933878\n"
     ]
    }
   ],
   "source": [
    "## District Summary\n",
    "\n",
    "# Calculate the percentage of students with a passing math score (70 or greater)\n",
    "\n",
    "total_pass_math = len(df[df[\"math_score\"] >= 70])\n",
    "total_fail_math = len(df[df[\"math_score\"] < 70])\n",
    "\n",
    "total_take_math = total_pass_math + total_fail_math\n",
    "\n",
    "print(total_pass_math + total_fail_math)              \n",
    "\n",
    "print(total_students == total_pass_math + total_fail_math) \n",
    "\n",
    "print(f\"Total pass math = {total_pass_math}\")\n",
    "print(f\"Total fail math = {total_fail_math}\")\n",
    "\n",
    "per_pmath = (total_pass_math / total_take_math) * 100\n",
    "\n",
    "print(f\"Total % pass math = {per_pmath}\")"
   ]
  },
  {
   "cell_type": "code",
   "execution_count": 21,
   "metadata": {},
   "outputs": [
    {
     "name": "stdout",
     "output_type": "stream",
     "text": [
      "39170\n",
      "True\n",
      "Total pass reading = 33610\n",
      "Total fail reading = 5560\n",
      "Total % pass reading = 85.80546336482001\n"
     ]
    }
   ],
   "source": [
    "## District Summary\n",
    "\n",
    "# Calculate the percentage of students with a passing reading score (70 or greater)\n",
    "\n",
    "total_pass_reading = len(df[df[\"reading_score\"] >= 70])\n",
    "total_fail_reading = len(df[df[\"reading_score\"] < 70])\n",
    "\n",
    "total_take_reading = total_pass_reading + total_fail_reading\n",
    "\n",
    "print(total_pass_reading + total_fail_reading)              \n",
    "\n",
    "print(total_students == total_pass_reading + total_fail_reading) \n",
    "\n",
    "print(f\"Total pass reading = {total_pass_reading}\")\n",
    "print(f\"Total fail reading = {total_fail_reading}\")\n",
    "\n",
    "per_preading = (total_pass_reading / total_take_reading) * 100\n",
    "\n",
    "print(f\"Total % pass reading = {per_preading}\")\n"
   ]
  },
  {
   "cell_type": "code",
   "execution_count": 24,
   "metadata": {},
   "outputs": [
    {
     "name": "stdout",
     "output_type": "stream",
     "text": [
      "Total pass both = 25528\n",
      "Total take both = 39170\n",
      "Total % pass both = 65.17232575950983\n"
     ]
    }
   ],
   "source": [
    "## District Summary\n",
    "\n",
    "# Calculate the percentage of students who passed math and reading (% Overall Passing)\n",
    "\n",
    "total_pass_both = len(      df[   (df[\"reading_score\"] >= 70) & (df[\"math_score\"] >= 70) ])\n",
    "\n",
    "total_take_both = total_students    \n",
    "\n",
    "print(f\"Total pass both = {total_pass_both}\")\n",
    "print(f\"Total take both = {total_take_both}\")\n",
    "\n",
    "per_pboth = (total_pass_both / total_take_both) * 100\n",
    "\n",
    "print(f\"Total % pass both = {per_pboth}\")"
   ]
  },
  {
   "cell_type": "code",
   "execution_count": 27,
   "metadata": {},
   "outputs": [
    {
     "data": {
      "text/html": [
       "<div>\n",
       "<style scoped>\n",
       "    .dataframe tbody tr th:only-of-type {\n",
       "        vertical-align: middle;\n",
       "    }\n",
       "\n",
       "    .dataframe tbody tr th {\n",
       "        vertical-align: top;\n",
       "    }\n",
       "\n",
       "    .dataframe thead th {\n",
       "        text-align: right;\n",
       "    }\n",
       "</style>\n",
       "<table border=\"1\" class=\"dataframe\">\n",
       "  <thead>\n",
       "    <tr style=\"text-align: right;\">\n",
       "      <th></th>\n",
       "      <th>Total Schools</th>\n",
       "      <th>Total Students</th>\n",
       "      <th>Total Budget</th>\n",
       "      <th>Average Math Score</th>\n",
       "      <th>Average Reading Score</th>\n",
       "      <th>% Passing Math</th>\n",
       "      <th>% Passing Reading</th>\n",
       "      <th>% Overall Passing</th>\n",
       "    </tr>\n",
       "  </thead>\n",
       "  <tbody>\n",
       "    <tr>\n",
       "      <th>0</th>\n",
       "      <td>15</td>\n",
       "      <td>39170</td>\n",
       "      <td>24649428</td>\n",
       "      <td>78.985371</td>\n",
       "      <td>81.87784</td>\n",
       "      <td>74.980853</td>\n",
       "      <td>85.805463</td>\n",
       "      <td>65.172326</td>\n",
       "    </tr>\n",
       "  </tbody>\n",
       "</table>\n",
       "</div>"
      ],
      "text/plain": [
       "   Total Schools  Total Students  Total Budget  Average Math Score  \\\n",
       "0             15           39170      24649428           78.985371   \n",
       "\n",
       "   Average Reading Score  % Passing Math  % Passing Reading  % Overall Passing  \n",
       "0               81.87784       74.980853          85.805463          65.172326  "
      ]
     },
     "execution_count": 27,
     "metadata": {},
     "output_type": "execute_result"
    }
   ],
   "source": [
    "# Create a dataframe to hold the above results\n",
    "\n",
    "district_summary = pd.DataFrame(\n",
    "    \n",
    "    {\n",
    "        \"Total Schools\" : [total_schools],\n",
    "        \"Total Students\" : [total_students],\n",
    "        \"Total Budget\" : [total_budget],\n",
    "        \"Average Math Score\" : [avg_mscore],\n",
    "        \"Average Reading Score\" : [avg_rscore],\n",
    "        \"% Passing Math\" : [per_pmath],\n",
    "        \"% Passing Reading\" : [per_preading],\n",
    "        \"% Overall Passing\" : [per_pboth],\n",
    "        \"Total Schools\" : [total_schools],\n",
    "                \n",
    "    }\n",
    "        \n",
    ")\n",
    "\n",
    "district_summary"
   ]
  },
  {
   "cell_type": "code",
   "execution_count": 28,
   "metadata": {},
   "outputs": [],
   "source": [
    "# Optional: give the displayed data cleaner formatting\n",
    "    \n",
    "    ## look up how to do this\n",
    "    \n",
    "    \n",
    "# district_summary.map(\"{}\".format)\n",
    "    \n",
    "    "
   ]
  },
  {
   "cell_type": "markdown",
   "metadata": {},
   "source": [
    "## District Summary\n",
    "\n",
    "* Calculate the total number of schools\n",
    "\n",
    "* Calculate the total number of students\n",
    "\n",
    "* Calculate the total budget\n",
    "\n",
    "* Calculate the average math score \n",
    "\n",
    "* Calculate the average reading score\n",
    "\n",
    "* Calculate the percentage of students with a passing math score (70 or greater)\n",
    "\n",
    "* Calculate the percentage of students with a passing reading score (70 or greater)\n",
    "\n",
    "* Calculate the percentage of students who passed math **and** reading (% Overall Passing)\n",
    "\n",
    "* Create a dataframe to hold the above results\n",
    "\n",
    "* Optional: give the displayed data cleaner formatting"
   ]
  },
  {
   "cell_type": "markdown",
   "metadata": {},
   "source": [
    "## School Summary"
   ]
  },
  {
   "cell_type": "markdown",
   "metadata": {},
   "source": [
    "* Create an overview table that summarizes key metrics about each school, including:\n",
    "  * School Name\n",
    "  * School Type\n",
    "  * Total Students\n",
    "  * Total School Budget\n",
    "  * Per Student Budget\n",
    "  * Average Math Score\n",
    "  * Average Reading Score\n",
    "  * % Passing Math\n",
    "  * % Passing Reading\n",
    "  * % Overall Passing (The percentage of students that passed math **and** reading.)\n",
    "  \n",
    "* Create a dataframe to hold the above results"
   ]
  },
  {
   "cell_type": "code",
   "execution_count": 72,
   "metadata": {},
   "outputs": [
    {
     "data": {
      "text/html": [
       "<div>\n",
       "<style scoped>\n",
       "    .dataframe tbody tr th:only-of-type {\n",
       "        vertical-align: middle;\n",
       "    }\n",
       "\n",
       "    .dataframe tbody tr th {\n",
       "        vertical-align: top;\n",
       "    }\n",
       "\n",
       "    .dataframe thead th {\n",
       "        text-align: right;\n",
       "    }\n",
       "</style>\n",
       "<table border=\"1\" class=\"dataframe\">\n",
       "  <thead>\n",
       "    <tr style=\"text-align: right;\">\n",
       "      <th></th>\n",
       "      <th>Student ID</th>\n",
       "      <th>student_name</th>\n",
       "      <th>gender</th>\n",
       "      <th>grade</th>\n",
       "      <th>school_name</th>\n",
       "      <th>reading_score</th>\n",
       "      <th>math_score</th>\n",
       "      <th>School ID</th>\n",
       "      <th>type</th>\n",
       "      <th>size</th>\n",
       "      <th>budget</th>\n",
       "    </tr>\n",
       "  </thead>\n",
       "  <tbody>\n",
       "    <tr>\n",
       "      <th>0</th>\n",
       "      <td>0</td>\n",
       "      <td>Paul Bradley</td>\n",
       "      <td>M</td>\n",
       "      <td>9th</td>\n",
       "      <td>Huang High School</td>\n",
       "      <td>66</td>\n",
       "      <td>79</td>\n",
       "      <td>0</td>\n",
       "      <td>District</td>\n",
       "      <td>2917</td>\n",
       "      <td>1910635</td>\n",
       "    </tr>\n",
       "    <tr>\n",
       "      <th>1</th>\n",
       "      <td>1</td>\n",
       "      <td>Victor Smith</td>\n",
       "      <td>M</td>\n",
       "      <td>12th</td>\n",
       "      <td>Huang High School</td>\n",
       "      <td>94</td>\n",
       "      <td>61</td>\n",
       "      <td>0</td>\n",
       "      <td>District</td>\n",
       "      <td>2917</td>\n",
       "      <td>1910635</td>\n",
       "    </tr>\n",
       "    <tr>\n",
       "      <th>2</th>\n",
       "      <td>2</td>\n",
       "      <td>Kevin Rodriguez</td>\n",
       "      <td>M</td>\n",
       "      <td>12th</td>\n",
       "      <td>Huang High School</td>\n",
       "      <td>90</td>\n",
       "      <td>60</td>\n",
       "      <td>0</td>\n",
       "      <td>District</td>\n",
       "      <td>2917</td>\n",
       "      <td>1910635</td>\n",
       "    </tr>\n",
       "    <tr>\n",
       "      <th>3</th>\n",
       "      <td>3</td>\n",
       "      <td>Dr. Richard Scott</td>\n",
       "      <td>M</td>\n",
       "      <td>12th</td>\n",
       "      <td>Huang High School</td>\n",
       "      <td>67</td>\n",
       "      <td>58</td>\n",
       "      <td>0</td>\n",
       "      <td>District</td>\n",
       "      <td>2917</td>\n",
       "      <td>1910635</td>\n",
       "    </tr>\n",
       "    <tr>\n",
       "      <th>4</th>\n",
       "      <td>4</td>\n",
       "      <td>Bonnie Ray</td>\n",
       "      <td>F</td>\n",
       "      <td>9th</td>\n",
       "      <td>Huang High School</td>\n",
       "      <td>97</td>\n",
       "      <td>84</td>\n",
       "      <td>0</td>\n",
       "      <td>District</td>\n",
       "      <td>2917</td>\n",
       "      <td>1910635</td>\n",
       "    </tr>\n",
       "  </tbody>\n",
       "</table>\n",
       "</div>"
      ],
      "text/plain": [
       "   Student ID       student_name gender grade        school_name  \\\n",
       "0           0       Paul Bradley      M   9th  Huang High School   \n",
       "1           1       Victor Smith      M  12th  Huang High School   \n",
       "2           2    Kevin Rodriguez      M  12th  Huang High School   \n",
       "3           3  Dr. Richard Scott      M  12th  Huang High School   \n",
       "4           4         Bonnie Ray      F   9th  Huang High School   \n",
       "\n",
       "   reading_score  math_score  School ID      type  size   budget  \n",
       "0             66          79          0  District  2917  1910635  \n",
       "1             94          61          0  District  2917  1910635  \n",
       "2             90          60          0  District  2917  1910635  \n",
       "3             67          58          0  District  2917  1910635  \n",
       "4             97          84          0  District  2917  1910635  "
      ]
     },
     "execution_count": 72,
     "metadata": {},
     "output_type": "execute_result"
    }
   ],
   "source": [
    "# School Summary\n",
    "# Create an overview table that summarizes key metrics about each school, including:\n",
    "\n",
    "# School Name (make index)\n",
    "# School Type\n",
    "# Total Students\n",
    "# Total School Budget\n",
    "# Per Student Budget\n",
    "# Average Math Score\n",
    "# Average Reading Score\n",
    "# % Passing Math\n",
    "# % Passing Reading\n",
    "# % Overall Passing (The percentage of students that passed math and reading.)\n",
    "# Create a dataframe to hold the above results\n",
    "\n",
    "df = school_data_complete.copy()\n",
    "df_totals = df.groupby([\"school_name\"])[\"math_score\"].sum()\n",
    "df.head()"
   ]
  },
  {
   "cell_type": "code",
   "execution_count": 76,
   "metadata": {},
   "outputs": [
    {
     "name": "stdout",
     "output_type": "stream",
     "text": [
      "                           type  size   budget  Per Student Budget\n",
      "school_name                                                       \n",
      "Bailey High School     District  4976  3124928               628.0\n",
      "Cabrera High School     Charter  1858  1081356               582.0\n",
      "Figueroa High School   District  2949  1884411               639.0\n",
      "Ford High School       District  2739  1763916               644.0\n",
      "Griffin High School     Charter  1468   917500               625.0\n",
      "Hernandez High School  District  4635  3022020               652.0\n",
      "Holden High School      Charter   427   248087               581.0\n",
      "Huang High School      District  2917  1910635               655.0\n",
      "Johnson High School    District  4761  3094650               650.0\n",
      "Pena High School        Charter   962   585858               609.0\n",
      "Rodriguez High School  District  3999  2547363               637.0\n",
      "Shelton High School     Charter  1761  1056600               600.0\n",
      "Thomas High School      Charter  1635  1043130               638.0\n",
      "Wilson High School      Charter  2283  1319574               578.0\n",
      "Wright High School      Charter  1800  1049400               583.0\n"
     ]
    }
   ],
   "source": [
    "df_scalars = df.groupby([\"school_name\"])[  [\"type\", \"size\", \"budget\"]    ].min()\n",
    "\n",
    "df_scalars[\"Per Student Budget\"] = df_scalars[\"budget\"] / df_scalars[\"size\"]\n",
    "\n",
    "print(df_scalars)"
   ]
  },
  {
   "cell_type": "code",
   "execution_count": 75,
   "metadata": {},
   "outputs": [
    {
     "name": "stdout",
     "output_type": "stream",
     "text": [
      "                         size  math_score  reading_score\n",
      "school_name                                             \n",
      "Bailey High School     4976.0   77.048432      81.033963\n",
      "Cabrera High School    1858.0   83.061895      83.975780\n",
      "Figueroa High School   2949.0   76.711767      81.158020\n",
      "Ford High School       2739.0   77.102592      80.746258\n",
      "Griffin High School    1468.0   83.351499      83.816757\n",
      "Hernandez High School  4635.0   77.289752      80.934412\n",
      "Holden High School      427.0   83.803279      83.814988\n",
      "Huang High School      2917.0   76.629414      81.182722\n",
      "Johnson High School    4761.0   77.072464      80.966394\n",
      "Pena High School        962.0   83.839917      84.044699\n",
      "Rodriguez High School  3999.0   76.842711      80.744686\n",
      "Shelton High School    1761.0   83.359455      83.725724\n",
      "Thomas High School     1635.0   83.418349      83.848930\n",
      "Wilson High School     2283.0   83.274201      83.989488\n",
      "Wright High School     1800.0   83.682222      83.955000\n"
     ]
    }
   ],
   "source": [
    "df_means = df.groupby([\"school_name\"])[[\"size\", \"math_score\", \"reading_score\"]].mean()\n",
    "print(df_means)"
   ]
  },
  {
   "cell_type": "code",
   "execution_count": 83,
   "metadata": {},
   "outputs": [
    {
     "name": "stdout",
     "output_type": "stream",
     "text": [
      "                       math_score  reading_score\n",
      "school_name                                     \n",
      "Bailey High School         383393         403225\n",
      "Cabrera High School        154329         156027\n",
      "Figueroa High School       226223         239335\n",
      "Ford High School           211184         221164\n",
      "Griffin High School        122360         123043\n",
      "Hernandez High School      358238         375131\n",
      "Holden High School          35784          35789\n",
      "Huang High School          223528         236810\n",
      "Johnson High School        366942         385481\n",
      "Pena High School            80654          80851\n",
      "Rodriguez High School      307294         322898\n",
      "Shelton High School        146796         147441\n",
      "Thomas High School         136389         137093\n",
      "Wilson High School         190115         191748\n",
      "Wright High School         150628         151119\n"
     ]
    }
   ],
   "source": [
    "df_totals = df.groupby([\"school_name\"])[  [\"math_score\", \"reading_score\"]].sum()\n",
    "print(df_totals)\n"
   ]
  },
  {
   "cell_type": "code",
   "execution_count": null,
   "metadata": {},
   "outputs": [],
   "source": []
  },
  {
   "cell_type": "code",
   "execution_count": null,
   "metadata": {},
   "outputs": [],
   "source": []
  },
  {
   "cell_type": "markdown",
   "metadata": {},
   "source": [
    "## Top Performing Schools (By % Overall Passing)"
   ]
  },
  {
   "cell_type": "markdown",
   "metadata": {},
   "source": [
    "* Sort and display the top five performing schools by % overall passing."
   ]
  },
  {
   "cell_type": "code",
   "execution_count": null,
   "metadata": {
    "scrolled": true
   },
   "outputs": [],
   "source": []
  },
  {
   "cell_type": "markdown",
   "metadata": {},
   "source": [
    "## Bottom Performing Schools (By % Overall Passing)"
   ]
  },
  {
   "cell_type": "markdown",
   "metadata": {},
   "source": [
    "* Sort and display the five worst-performing schools by % overall passing."
   ]
  },
  {
   "cell_type": "code",
   "execution_count": null,
   "metadata": {},
   "outputs": [],
   "source": []
  },
  {
   "cell_type": "markdown",
   "metadata": {
    "collapsed": true
   },
   "source": [
    "## Math Scores by Grade"
   ]
  },
  {
   "cell_type": "markdown",
   "metadata": {},
   "source": [
    "* Create a table that lists the average Reading Score for students of each grade level (9th, 10th, 11th, 12th) at each school.\n",
    "\n",
    "  * Create a pandas series for each grade. Hint: use a conditional statement.\n",
    "  \n",
    "  * Group each series by school\n",
    "  \n",
    "  * Combine the series into a dataframe\n",
    "  \n",
    "  * Optional: give the displayed data cleaner formatting"
   ]
  },
  {
   "cell_type": "code",
   "execution_count": null,
   "metadata": {},
   "outputs": [],
   "source": []
  },
  {
   "cell_type": "markdown",
   "metadata": {},
   "source": [
    "## Reading Score by Grade "
   ]
  },
  {
   "cell_type": "markdown",
   "metadata": {},
   "source": [
    "* Perform the same operations as above for reading scores"
   ]
  },
  {
   "cell_type": "code",
   "execution_count": null,
   "metadata": {},
   "outputs": [],
   "source": []
  },
  {
   "cell_type": "markdown",
   "metadata": {},
   "source": [
    "## Scores by School Spending"
   ]
  },
  {
   "cell_type": "markdown",
   "metadata": {},
   "source": [
    "* Create a table that breaks down school performances based on average Spending Ranges (Per Student). Use 4 reasonable bins to group school spending. Include in the table each of the following:\n",
    "  * Average Math Score\n",
    "  * Average Reading Score\n",
    "  * % Passing Math\n",
    "  * % Passing Reading\n",
    "  * Overall Passing Rate (Average of the above two)"
   ]
  },
  {
   "cell_type": "code",
   "execution_count": null,
   "metadata": {},
   "outputs": [],
   "source": []
  },
  {
   "cell_type": "markdown",
   "metadata": {},
   "source": [
    "## Scores by School Size"
   ]
  },
  {
   "cell_type": "markdown",
   "metadata": {},
   "source": [
    "* Perform the same operations as above, based on school size."
   ]
  },
  {
   "cell_type": "code",
   "execution_count": null,
   "metadata": {
    "scrolled": true
   },
   "outputs": [],
   "source": []
  },
  {
   "cell_type": "markdown",
   "metadata": {},
   "source": [
    "## Scores by School Type"
   ]
  },
  {
   "cell_type": "markdown",
   "metadata": {},
   "source": [
    "* Perform the same operations as above, based on school type"
   ]
  },
  {
   "cell_type": "code",
   "execution_count": null,
   "metadata": {},
   "outputs": [],
   "source": []
  }
 ],
 "metadata": {
  "anaconda-cloud": {},
  "kernel_info": {
   "name": "python3"
  },
  "kernelspec": {
   "display_name": "PythonData38",
   "language": "python",
   "name": "pythondata38"
  },
  "language_info": {
   "codemirror_mode": {
    "name": "ipython",
    "version": 3
   },
   "file_extension": ".py",
   "mimetype": "text/x-python",
   "name": "python",
   "nbconvert_exporter": "python",
   "pygments_lexer": "ipython3",
   "version": "3.9.12"
  },
  "latex_envs": {
   "LaTeX_envs_menu_present": true,
   "autoclose": false,
   "autocomplete": true,
   "bibliofile": "biblio.bib",
   "cite_by": "apalike",
   "current_citInitial": 1,
   "eqLabelWithNumbers": true,
   "eqNumInitial": 1,
   "hotkeys": {
    "equation": "Ctrl-E",
    "itemize": "Ctrl-I"
   },
   "labels_anchors": false,
   "latex_user_defs": false,
   "report_style_numbering": false,
   "user_envs_cfg": false
  },
  "nteract": {
   "version": "0.8.4"
  }
 },
 "nbformat": 4,
 "nbformat_minor": 1
}
