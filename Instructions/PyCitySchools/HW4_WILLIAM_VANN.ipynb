{
 "cells": [
  {
   "cell_type": "markdown",
   "metadata": {},
   "source": [
    "### Note\n",
    "* Instructions have been included for each segment. You do not have to follow them exactly, but they are included to help you think through the steps."
   ]
  },
  {
   "cell_type": "code",
   "execution_count": null,
   "metadata": {},
   "outputs": [],
   "source": [
    "# Dependencies and Setup\n",
    "import pandas as pd\n",
    "\n",
    "# File to Load (Remember to Change These)\n",
    "school_data_to_load = \"Resources/schools_complete.csv\"\n",
    "student_data_to_load = \"Resources/students_complete.csv\"\n",
    "\n",
    "# Read School and Student Data File and store into Pandas DataFrames\n",
    "school_data = pd.read_csv(school_data_to_load)\n",
    "student_data = pd.read_csv(student_data_to_load)\n",
    "\n",
    "# Combine the data into a single dataset.  \n",
    "school_data_complete = pd.merge(student_data, school_data, how=\"left\", on=[\"school_name\", \"school_name\"])\n",
    "\n",
    "df = school_data_complete.copy()"
   ]
  },
  {
   "cell_type": "code",
   "execution_count": null,
   "metadata": {},
   "outputs": [],
   "source": [
    "# Look at data\n",
    "\n",
    "df.head()"
   ]
  },
  {
   "cell_type": "code",
   "execution_count": null,
   "metadata": {},
   "outputs": [],
   "source": [
    "# Inspect info on df\n",
    "\n",
    "df.info()"
   ]
  },
  {
   "cell_type": "code",
   "execution_count": null,
   "metadata": {},
   "outputs": [],
   "source": [
    "## District Summary\n",
    "\n",
    "# Calculate the total number of schools\n",
    "\n",
    "total_schools = df[\"school_name\"].nunique()\n",
    "\n",
    "print(f\"Total schools = {total_schools}\")"
   ]
  },
  {
   "cell_type": "code",
   "execution_count": null,
   "metadata": {},
   "outputs": [],
   "source": [
    "## District Summary\n",
    "\n",
    "# Calculate the total number of students\n",
    "\n",
    "total_students = df[\"student_name\"].count()\n",
    "\n",
    "print(f\"Total students = {total_students}\")"
   ]
  },
  {
   "cell_type": "code",
   "execution_count": null,
   "metadata": {},
   "outputs": [],
   "source": [
    "## District Summary\n",
    "\n",
    "# Calculate the total budget\n",
    "\n",
    "total_budget = df[\"budget\"].unique().sum()\n",
    "\n",
    "print(f\"Total budget = {total_budget}\")"
   ]
  },
  {
   "cell_type": "code",
   "execution_count": null,
   "metadata": {},
   "outputs": [],
   "source": [
    "## District Summary\n",
    "\n",
    "# Calculate the average math score\n",
    "\n",
    "avg_mscore = df[\"math_score\"].mean()\n",
    "\n",
    "print(f\"Average math score = {avg_mscore}\")"
   ]
  },
  {
   "cell_type": "code",
   "execution_count": null,
   "metadata": {},
   "outputs": [],
   "source": [
    "## District Summary\n",
    "\n",
    "# Calculate the average reading score\n",
    "\n",
    "avg_rscore = df[\"reading_score\"].mean()\n",
    "\n",
    "print(f\"Average reading score = {avg_rscore}\")"
   ]
  },
  {
   "cell_type": "code",
   "execution_count": null,
   "metadata": {},
   "outputs": [],
   "source": [
    "## District Summary\n",
    "\n",
    "# Calculate the percentage of students with a passing math score (70 or greater)\n",
    "\n",
    "total_pass_math = len(df[df[\"math_score\"] >= 70])\n",
    "total_fail_math = len(df[df[\"math_score\"] < 70])\n",
    "\n",
    "total_take_math = total_pass_math + total_fail_math\n",
    "\n",
    "print(f\"Total taking math = {total_pass_math + total_fail_math}\")              \n",
    "print(f\"(Adds up? {total_students == total_take_math})\\n\") \n",
    "\n",
    "print(f\"Total pass math = {total_pass_math}\")\n",
    "print(f\"Total fail math = {total_fail_math}\")\n",
    "\n",
    "per_pmath = (total_pass_math / total_take_math) * 100\n",
    "\n",
    "print(f\"\\nTotal % pass math = {per_pmath}\")"
   ]
  },
  {
   "cell_type": "code",
   "execution_count": null,
   "metadata": {},
   "outputs": [],
   "source": [
    "## District Summary\n",
    "\n",
    "# Calculate the percentage of students with a passing reading score (70 or greater)\n",
    "\n",
    "total_pass_reading = len(df[df[\"reading_score\"] >= 70])\n",
    "total_fail_reading = len(df[df[\"reading_score\"] < 70])\n",
    "\n",
    "total_take_reading = total_pass_reading + total_fail_reading\n",
    "\n",
    "print(f\"Total taking reading = {total_pass_reading + total_fail_reading}\")              \n",
    "print(f\"(Adds up? {total_students == total_pass_reading + total_fail_reading})\\n\") \n",
    "\n",
    "print(f\"Total pass reading = {total_pass_reading}\")\n",
    "print(f\"Total fail reading = {total_fail_reading}\")\n",
    "\n",
    "per_preading = (total_pass_reading / total_take_reading) * 100\n",
    "\n",
    "print(f\"\\nTotal % pass reading = {per_preading}\")\n"
   ]
  },
  {
   "cell_type": "code",
   "execution_count": null,
   "metadata": {},
   "outputs": [],
   "source": [
    "## District Summary\n",
    "\n",
    "# Calculate the percentage of students who passed math and reading (% Overall Passing)\n",
    "\n",
    "total_pass_both = len(df[(df[\"reading_score\"] >= 70) & (df[\"math_score\"] >= 70)])\n",
    "total_fail_both = len(df[(df[\"reading_score\"] < 70) & (df[\"math_score\"] < 70)])\n",
    "total_pmath_freading = len(df[(df[\"reading_score\"] < 70) & (df[\"math_score\"] >= 70)])\n",
    "total_fmath_preading = len(df[(df[\"reading_score\"] >= 70) & (df[\"math_score\"] < 70)])\n",
    "\n",
    "total_take_both = total_pass_both + total_fail_both + total_pmath_freading + total_fmath_preading\n",
    "\n",
    "print(f\"Total taking both math and reading = {total_take_both}\")\n",
    "print(f\"(Adds up? {total_students == total_take_both == total_students})\\n\") \n",
    "\n",
    "print(f\"Total pass both = {total_pass_both}\")\n",
    "print(f\"Total fail both = {total_fail_both}\")\n",
    "print(f\"Total pass math and fail reading = {total_pmath_freading}\")\n",
    "print(f\"Total fail math and pass reading = {total_fmath_preading}\")\n",
    "\n",
    "per_pboth = (total_pass_both / total_take_both) * 100\n",
    "\n",
    "print(f\"\\nTotal % pass both = {per_pboth}\")"
   ]
  },
  {
   "cell_type": "markdown",
   "metadata": {},
   "source": [
    "## District Summary\n",
    "\n",
    "* Calculate the total number of schools\n",
    "\n",
    "* Calculate the total number of students\n",
    "\n",
    "* Calculate the total budget\n",
    "\n",
    "* Calculate the average math score \n",
    "\n",
    "* Calculate the average reading score\n",
    "\n",
    "* Calculate the percentage of students with a passing math score (70 or greater)\n",
    "\n",
    "* Calculate the percentage of students with a passing reading score (70 or greater)\n",
    "\n",
    "* Calculate the percentage of students who passed math **and** reading (% Overall Passing)\n",
    "\n",
    "* Create a dataframe to hold the above results\n",
    "\n",
    "* Optional: give the displayed data cleaner formatting"
   ]
  },
  {
   "cell_type": "code",
   "execution_count": null,
   "metadata": {},
   "outputs": [],
   "source": [
    "# Create a dataframe to hold the above results\n",
    "\n",
    "district_summary = pd.DataFrame(\n",
    "    \n",
    "    {\n",
    "        \"Total Schools\" : [total_schools],\n",
    "        \"Total Students\" : [total_students],\n",
    "        \"Total Budget\" : [total_budget],\n",
    "        \"Average Math Score\" : [avg_mscore],\n",
    "        \"Average Reading Score\" : [avg_rscore],\n",
    "        \"% Passing Math\" : [per_pmath],\n",
    "        \"% Passing Reading\" : [per_preading],\n",
    "        \"% Overall Passing\" : [per_pboth],\n",
    "                      \n",
    "    }\n",
    "        \n",
    ")\n",
    "\n",
    "district_summary"
   ]
  },
  {
   "cell_type": "code",
   "execution_count": null,
   "metadata": {},
   "outputs": [],
   "source": [
    "# Prettify df with formatting\n",
    "\n",
    "ds_pretty = pd.DataFrame()\n",
    "\n",
    "ds_pretty[\"Total Schools\"] = district_summary[\"Total Schools\"].map(\"{:,}\".format)\n",
    "ds_pretty[\"Total Students\"] = district_summary[\"Total Students\"].map(\"{:,}\".format)\n",
    "ds_pretty[\"Total Budget\"] = district_summary[\"Total Budget\"].map(\"${:,}\".format)\n",
    "ds_pretty[\"Average Math Score\"] = district_summary[\"Average Math Score\"].map(\"{:,.2f}\".format)\n",
    "ds_pretty[\"Average Reading Score\"] = district_summary[\"Average Reading Score\"].map(\"{:,.2f}\".format)\n",
    "ds_pretty[\"% Passing Math\"] = district_summary[\"% Passing Math\"].map(\"{:,.2f}%\".format)\n",
    "ds_pretty[\"% Passing Reading\"] = district_summary[\"% Passing Reading\"].map(\"{:,.2f}%\".format)\n",
    "ds_pretty[\"% Overall Passing\"] = district_summary[\"% Overall Passing\"].map(\"{:,.2f}%\".format)\n",
    "\n",
    "ds_pretty"
   ]
  },
  {
   "cell_type": "markdown",
   "metadata": {},
   "source": [
    "## School Summary"
   ]
  },
  {
   "cell_type": "markdown",
   "metadata": {},
   "source": [
    "* Create an overview table that summarizes key metrics about each school, including:\n",
    "  * School Name\n",
    "  * School Type\n",
    "  * Total Students\n",
    "  * Total School Budget\n",
    "  * Per Student Budget\n",
    "  * Average Math Score\n",
    "  * Average Reading Score\n",
    "  * % Passing Math\n",
    "  * % Passing Reading\n",
    "  * % Overall Passing (The percentage of students that passed math **and** reading.)\n",
    "  \n",
    "* Create a dataframe to hold the above results"
   ]
  },
  {
   "cell_type": "code",
   "execution_count": null,
   "metadata": {},
   "outputs": [],
   "source": [
    "# School Summary\n",
    "# Create an overview table that summarizes key metrics about each school, including:\n",
    "\n",
    "# School Name (make index)\n",
    "# School Type\n",
    "# Total Students\n",
    "# Total School Budget\n",
    "# Per Student Budget\n",
    "# Average Math Score\n",
    "# Average Reading Score\n",
    "# % Passing Math\n",
    "# % Passing Reading\n",
    "# % Overall Passing (The percentage of students that passed math and reading.)\n",
    "# Create a dataframe to hold the above results\n",
    "\n",
    "# Make copy of original merged df\n",
    "\n",
    "df = school_data_complete.copy()\n",
    "\n",
    "# Take all rows and only select columns\n",
    "\n",
    "df1 = df.loc[:, [\"school_name\", \"size\", \"budget\", \"math_score\", \"reading_score\"]]\n",
    "\n",
    "# Create groupby object get mean\n",
    "\n",
    "df1 = df1.groupby(\"school_name\").mean()\n",
    "\n",
    "# Look at resulting df\n",
    "\n",
    "df1"
   ]
  },
  {
   "cell_type": "code",
   "execution_count": null,
   "metadata": {},
   "outputs": [],
   "source": [
    "# Calculate % Passing Math series and % Passing Reading series and add these series as columns to df\n",
    "\n",
    "s_pmath = df[df[\"math_score\"] >= 70].sort_values(\"math_score\").groupby(\"school_name\")[\"math_score\"].count()\n",
    "\n",
    "df1[\"num mpassers\"] = s_pmath\n",
    "\n",
    "df1[\"% Passing Math\"] = (df1[\"num mpassers\"] / df1[\"size\"]) * 100\n",
    "\n",
    "s_preading = df[df[\"reading_score\"] >= 70].sort_values(\"reading_score\").groupby(\"school_name\")[\"reading_score\"].count()\n",
    "\n",
    "df1[\"num rpassers\"] = s_preading\n",
    "\n",
    "df1[\"% Passing Reading\"] = (df1[\"num rpassers\"] / df1[\"size\"]) * 100\n",
    "\n",
    "df1"
   ]
  },
  {
   "cell_type": "code",
   "execution_count": null,
   "metadata": {},
   "outputs": [],
   "source": [
    "# Calculate % Overall Passing series and add this series as column to df\n",
    "\n",
    "s_pboth = df[(df[\"math_score\"] >= 70) & (df[\"reading_score\"] >= 70)].groupby(\"school_name\")[\"math_score\"].count()\n",
    "\n",
    "df1[\"num bothpassers\"] = s_pboth\n",
    "\n",
    "df1[\"% Overall Passing\"] = (df1[\"num bothpassers\"] / df1[\"size\"]) * 100\n",
    "\n",
    "df1"
   ]
  },
  {
   "cell_type": "code",
   "execution_count": null,
   "metadata": {},
   "outputs": [],
   "source": [
    "# Add School Type column\n",
    "\n",
    "df = school_data_complete.copy()\n",
    "\n",
    "s_stype = df.groupby(\"school_name\")[\"type\"].max()\n",
    "\n",
    "df1[\"School Type\"] = s_stype\n",
    "\n",
    "df1"
   ]
  },
  {
   "cell_type": "code",
   "execution_count": null,
   "metadata": {
    "scrolled": true
   },
   "outputs": [],
   "source": [
    "# Calculate Per Student Budget and add column\n",
    "\n",
    "df1[\"Per Student Budget\"] = (df1[\"budget\"] / df1[\"size\"])\n",
    "\n",
    "df1"
   ]
  },
  {
   "cell_type": "code",
   "execution_count": null,
   "metadata": {},
   "outputs": [],
   "source": [
    "# Assemble school summary df, rename columns, delete index name\n",
    "\n",
    "school_summary = df1[ [\"School Type\", \"size\", \"budget\", \"Per Student Budget\", \"math_score\", \"reading_score\", \n",
    "                      \n",
    "                      \"% Passing Math\", \"% Passing Reading\", \"% Overall Passing\"]  ]\n",
    "\n",
    "school_summary = school_summary.rename(columns={\"size\":\"Total Students\", \"budget\":\"Total School Budget\",\n",
    "                      \"math_score\":\"Average Math Score\", \"reading_score\":\"Average Reading Score\", \n",
    "                      })\n",
    "\n",
    "school_summary = school_summary.rename_axis(None, axis = 0)\n",
    "\n",
    "school_summary"
   ]
  },
  {
   "cell_type": "code",
   "execution_count": null,
   "metadata": {},
   "outputs": [],
   "source": [
    "# Prettify df with formatting\n",
    "\n",
    "ss_pretty = school_summary.copy()\n",
    "\n",
    "ss_pretty[\"Total Students\"] = ss_pretty[\"Total Students\"].astype(int).map(\"{:,}\".format)\n",
    "ss_pretty[\"Total School Budget\"] = ss_pretty[\"Total School Budget\"].map(\"${:,.2f}\".format)\n",
    "ss_pretty[\"Per Student Budget\"] = ss_pretty[\"Per Student Budget\"].map(\"${:,.2f}\".format)\n",
    "ss_pretty[\"Average Math Score\"] = ss_pretty[\"Average Math Score\"].map(\"{:,.2f}\".format)\n",
    "ss_pretty[\"Average Reading Score\"] = ss_pretty[\"Average Reading Score\"].map(\"{:,.2f}\".format)\n",
    "ss_pretty[\"% Passing Math\"] = ss_pretty[\"% Passing Math\"].map(\"{:,.2f}%\".format)\n",
    "ss_pretty[\"% Passing Reading\"] = ss_pretty[\"% Passing Reading\"].map(\"{:,.2f}%\".format)\n",
    "ss_pretty[\"% Overall Passing\"] = ss_pretty[\"% Overall Passing\"].map(\"{:,.2f}%\".format)\n",
    "\n",
    "ss_pretty"
   ]
  },
  {
   "cell_type": "markdown",
   "metadata": {},
   "source": [
    "## Top Performing Schools (By % Overall Passing)"
   ]
  },
  {
   "cell_type": "markdown",
   "metadata": {},
   "source": [
    "* Sort and display the top five performing schools by % overall passing."
   ]
  },
  {
   "cell_type": "code",
   "execution_count": null,
   "metadata": {},
   "outputs": [],
   "source": [
    "# Sort by % Overall Passing from highest to lowest, show top 5\n",
    "\n",
    "df = ss_pretty.copy()\n",
    "\n",
    "df.sort_values(\"% Overall Passing\", ascending=False).head(5)"
   ]
  },
  {
   "cell_type": "markdown",
   "metadata": {},
   "source": [
    "## Bottom Performing Schools (By % Overall Passing)"
   ]
  },
  {
   "cell_type": "markdown",
   "metadata": {},
   "source": [
    "* Sort and display the five worst-performing schools by % overall passing."
   ]
  },
  {
   "cell_type": "code",
   "execution_count": null,
   "metadata": {},
   "outputs": [],
   "source": [
    "# Sort by % Overall Passing from lowest to highest, show top 5\n",
    "\n",
    "df.sort_values(\"% Overall Passing\", ascending=True).head(5)"
   ]
  },
  {
   "cell_type": "markdown",
   "metadata": {
    "collapsed": true
   },
   "source": [
    "## Math Scores by Grade"
   ]
  },
  {
   "cell_type": "markdown",
   "metadata": {},
   "source": [
    "* Create a table that lists the average Reading Score for students of each grade level (9th, 10th, 11th, 12th) at each school.\n",
    "\n",
    "  * Create a pandas series for each grade. Hint: use a conditional statement.\n",
    "  \n",
    "  * Group each series by school\n",
    "  \n",
    "  * Combine the series into a dataframe\n",
    "  \n",
    "  * Optional: give the displayed data cleaner formatting"
   ]
  },
  {
   "cell_type": "code",
   "execution_count": null,
   "metadata": {},
   "outputs": [],
   "source": [
    "# Copy original merged df\n",
    "\n",
    "df = school_data_complete.copy()\n",
    "df"
   ]
  },
  {
   "cell_type": "code",
   "execution_count": null,
   "metadata": {},
   "outputs": [],
   "source": [
    "# Create series for each grade level\n",
    "\n",
    "s9 = pd.Series(df[\"grade\"] == \"9th\")\n",
    "s10 = pd.Series(df[\"grade\"] == \"10th\")\n",
    "s11 = pd.Series(df[\"grade\"] == \"11th\")\n",
    "s12 = pd.Series(df[\"grade\"] == \"12th\")\n",
    "\n",
    "# Make new dfs for each grade level on mean of math_score, with intention to merge them\n",
    "\n",
    "df9 = df.loc[s9, :].groupby(\"school_name\")[\"math_score\"].mean()\n",
    "df10 = df.loc[s10, :].groupby(\"school_name\")[\"math_score\"].mean()\n",
    "df11 = df.loc[s11, :].groupby(\"school_name\")[\"math_score\"].mean()\n",
    "df12 = df.loc[s12, :].groupby(\"school_name\")[\"math_score\"].mean()\n",
    "\n",
    "first_mmerge = pd.merge(df9, df10, on=\"school_name\")\n",
    "\n",
    "second_mmerge = pd.merge(df11, df12, on=\"school_name\")\n",
    "\n",
    "finalmath_df = pd.merge(first_mmerge, second_mmerge, on=\"school_name\")\n",
    "\n",
    "finalmath_df.columns = [\"9th\", \"10th\", \"11th\", \"12th\"]\n",
    "\n",
    "finalmath_df.index.name = None\n",
    "\n",
    "finalmath_df"
   ]
  },
  {
   "cell_type": "markdown",
   "metadata": {},
   "source": [
    "## Reading Score by Grade "
   ]
  },
  {
   "cell_type": "markdown",
   "metadata": {},
   "source": [
    "* Perform the same operations as above for reading scores"
   ]
  },
  {
   "cell_type": "code",
   "execution_count": null,
   "metadata": {},
   "outputs": [],
   "source": [
    "# Create series for each grade level\n",
    "\n",
    "s9 = pd.Series(df[\"grade\"] == \"9th\")\n",
    "s10 = pd.Series(df[\"grade\"] == \"10th\")\n",
    "s11 = pd.Series(df[\"grade\"] == \"11th\")\n",
    "s12 = pd.Series(df[\"grade\"] == \"12th\")\n",
    "\n",
    "# Make new dfs for each grade level on mean of reading_score, with intention to merge them\n",
    "\n",
    "df9 = df.loc[s9, :].groupby(\"school_name\")[\"reading_score\"].mean()\n",
    "df10 = df.loc[s10, :].groupby(\"school_name\")[\"reading_score\"].mean()\n",
    "df11 = df.loc[s11, :].groupby(\"school_name\")[\"reading_score\"].mean()\n",
    "df12 = df.loc[s12, :].groupby(\"school_name\")[\"reading_score\"].mean()\n",
    "\n",
    "first_rmerge = pd.merge(df9, df10, on=\"school_name\")\n",
    "\n",
    "second_rmerge = pd.merge(df11, df12, on=\"school_name\")\n",
    "\n",
    "finalreading_df = pd.merge(first_rmerge, second_rmerge, on=\"school_name\")\n",
    "\n",
    "finalreading_df.columns = [\"9th\", \"10th\", \"11th\", \"12th\"]\n",
    "\n",
    "finalreading_df.index.name = None\n",
    "\n",
    "finalreading_df"
   ]
  },
  {
   "cell_type": "markdown",
   "metadata": {},
   "source": [
    "## Scores by School Spending"
   ]
  },
  {
   "cell_type": "markdown",
   "metadata": {},
   "source": [
    "* Create a table that breaks down school performances based on average Spending Ranges (Per Student). Use 4 reasonable bins to group school spending. Include in the table each of the following:\n",
    "  * Average Math Score\n",
    "  * Average Reading Score\n",
    "  * % Passing Math\n",
    "  * % Passing Reading\n",
    "  * Overall Passing Rate (Average of the above two)"
   ]
  },
  {
   "cell_type": "code",
   "execution_count": null,
   "metadata": {},
   "outputs": [],
   "source": [
    "# Binning on Per Student Budget\n",
    "\n",
    "df = school_summary.copy()\n",
    "\n",
    "df = df[[\"Per Student Budget\", \"Average Math Score\", \"Average Reading Score\", \"% Passing Math\", \"% Passing Reading\", \"% Overall Passing\"]]\n",
    "\n",
    "bins = [0, 584, 629, 644, 679]\n",
    "labels = [\"<$585\", \"$585-630\", \"$630-645\", \"$645-680\"]\n",
    "\n",
    "df[\"Per Student Budget Summary\"] = pd.cut(df[\"Per Student Budget\"], bins, labels=labels, include_lowest=True)\n",
    "\n",
    "budget_group = df.groupby(\"Per Student Budget Summary\")\n",
    "\n",
    "new_df = budget_group.mean()\n",
    "\n",
    "del new_df[\"Per Student Budget\"]\n",
    "\n",
    "new_df.index.name = \"Spending Ranges (Per Student)\"\n",
    "\n",
    "new_df"
   ]
  },
  {
   "cell_type": "markdown",
   "metadata": {},
   "source": [
    "## Scores by School Size"
   ]
  },
  {
   "cell_type": "markdown",
   "metadata": {},
   "source": [
    "* Perform the same operations as above, based on school size."
   ]
  },
  {
   "cell_type": "code",
   "execution_count": null,
   "metadata": {
    "scrolled": true
   },
   "outputs": [],
   "source": [
    "# Binning on Per Student Budget\n",
    "\n",
    "df = school_summary.copy()\n",
    "\n",
    "df = df[[\"Total Students\", \"Average Math Score\", \"Average Reading Score\", \"% Passing Math\", \"% Passing Reading\", \"% Overall Passing\"]]\n",
    "\n",
    "bins = [0, 999, 1999, 4999]\n",
    "labels = [\"Small (<1000)\", \"Medium (1000-2000)\", \"Large (2000-5000)\"]\n",
    "\n",
    "df[\"School Size\"] = pd.cut(df[\"Total Students\"], bins, labels=labels, include_lowest=True)\n",
    "\n",
    "totalstudents_group = df.groupby(\"School Size\")\n",
    "\n",
    "new_df = totalstudents_group.mean()\n",
    "\n",
    "del new_df[\"Total Students\"]\n",
    "\n",
    "new_df"
   ]
  },
  {
   "cell_type": "markdown",
   "metadata": {},
   "source": [
    "## Scores by School Type"
   ]
  },
  {
   "cell_type": "markdown",
   "metadata": {},
   "source": [
    "* Perform the same operations as above, based on school type"
   ]
  },
  {
   "cell_type": "code",
   "execution_count": null,
   "metadata": {
    "scrolled": false
   },
   "outputs": [],
   "source": [
    "# Binning on School Type\n",
    "\n",
    "df = school_summary.copy()\n",
    "\n",
    "df = df[[\"School Type\", \"Average Math Score\", \"Average Reading Score\", \"% Passing Math\", \"% Passing Reading\", \"% Overall Passing\"]]\n",
    "\n",
    "types_group = df.groupby(\"School Type\")\n",
    "\n",
    "new_df = types_group.mean()\n",
    "\n",
    "new_df\n"
   ]
  },
  {
   "cell_type": "markdown",
   "metadata": {},
   "source": [
    "# Two Observable Trends Based on the Data\n",
    "\n",
    "1. In aggregate, ***Charter schools have much higher percent passing rates*** than District schools. This is interesting in itself, but particularly so because Charter school average math and reading scores are not significantly higher than District school average math and reading scores. The ***% Overall Passing feature*** is the most stark contrast, with over 90% of Charter school students passing and under 54% of District school students passing.   \n",
    "\n",
    "2. ***Large size schools (2000-5000 students) fared far worse in scores and passing percentages*** than medium or small size schools. Again ***% Overall Passing*** displays the starkest contrast, with small and medium size schools achieving around 90% while large size schools achieving just above 58%.   "
   ]
  }
 ],
 "metadata": {
  "anaconda-cloud": {},
  "kernel_info": {
   "name": "python3"
  },
  "kernelspec": {
   "display_name": "PythonData38",
   "language": "python",
   "name": "pythondata38"
  },
  "language_info": {
   "codemirror_mode": {
    "name": "ipython",
    "version": 3
   },
   "file_extension": ".py",
   "mimetype": "text/x-python",
   "name": "python",
   "nbconvert_exporter": "python",
   "pygments_lexer": "ipython3",
   "version": "3.9.12"
  },
  "latex_envs": {
   "LaTeX_envs_menu_present": true,
   "autoclose": false,
   "autocomplete": true,
   "bibliofile": "biblio.bib",
   "cite_by": "apalike",
   "current_citInitial": 1,
   "eqLabelWithNumbers": true,
   "eqNumInitial": 1,
   "hotkeys": {
    "equation": "Ctrl-E",
    "itemize": "Ctrl-I"
   },
   "labels_anchors": false,
   "latex_user_defs": false,
   "report_style_numbering": false,
   "user_envs_cfg": false
  },
  "nteract": {
   "version": "0.8.4"
  }
 },
 "nbformat": 4,
 "nbformat_minor": 1
}
