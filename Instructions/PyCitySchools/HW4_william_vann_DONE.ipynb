{
 "cells": [
  {
   "cell_type": "markdown",
   "metadata": {},
   "source": [
    "### Note\n",
    "* Instructions have been included for each segment. You do not have to follow them exactly, but they are included to help you think through the steps."
   ]
  },
  {
   "cell_type": "code",
   "execution_count": 2,
   "metadata": {},
   "outputs": [],
   "source": [
    "# Dependencies and Setup\n",
    "import pandas as pd\n",
    "\n",
    "# File to Load (Remember to Change These)\n",
    "school_data_to_load = \"Resources/schools_complete.csv\"\n",
    "student_data_to_load = \"Resources/students_complete.csv\"\n",
    "\n",
    "# Read School and Student Data File and store into Pandas DataFrames\n",
    "school_data = pd.read_csv(school_data_to_load)\n",
    "student_data = pd.read_csv(student_data_to_load)\n",
    "\n",
    "# Combine the data into a single dataset.  \n",
    "school_data_complete = pd.merge(student_data, school_data, how=\"left\", on=[\"school_name\", \"school_name\"])\n"
   ]
  },
  {
   "cell_type": "code",
   "execution_count": 3,
   "metadata": {},
   "outputs": [
    {
     "data": {
      "text/html": [
       "<div>\n",
       "<style scoped>\n",
       "    .dataframe tbody tr th:only-of-type {\n",
       "        vertical-align: middle;\n",
       "    }\n",
       "\n",
       "    .dataframe tbody tr th {\n",
       "        vertical-align: top;\n",
       "    }\n",
       "\n",
       "    .dataframe thead th {\n",
       "        text-align: right;\n",
       "    }\n",
       "</style>\n",
       "<table border=\"1\" class=\"dataframe\">\n",
       "  <thead>\n",
       "    <tr style=\"text-align: right;\">\n",
       "      <th></th>\n",
       "      <th>Student ID</th>\n",
       "      <th>student_name</th>\n",
       "      <th>gender</th>\n",
       "      <th>grade</th>\n",
       "      <th>school_name</th>\n",
       "      <th>reading_score</th>\n",
       "      <th>math_score</th>\n",
       "      <th>School ID</th>\n",
       "      <th>type</th>\n",
       "      <th>size</th>\n",
       "      <th>budget</th>\n",
       "    </tr>\n",
       "  </thead>\n",
       "  <tbody>\n",
       "    <tr>\n",
       "      <th>0</th>\n",
       "      <td>0</td>\n",
       "      <td>Paul Bradley</td>\n",
       "      <td>M</td>\n",
       "      <td>9th</td>\n",
       "      <td>Huang High School</td>\n",
       "      <td>66</td>\n",
       "      <td>79</td>\n",
       "      <td>0</td>\n",
       "      <td>District</td>\n",
       "      <td>2917</td>\n",
       "      <td>1910635</td>\n",
       "    </tr>\n",
       "    <tr>\n",
       "      <th>1</th>\n",
       "      <td>1</td>\n",
       "      <td>Victor Smith</td>\n",
       "      <td>M</td>\n",
       "      <td>12th</td>\n",
       "      <td>Huang High School</td>\n",
       "      <td>94</td>\n",
       "      <td>61</td>\n",
       "      <td>0</td>\n",
       "      <td>District</td>\n",
       "      <td>2917</td>\n",
       "      <td>1910635</td>\n",
       "    </tr>\n",
       "    <tr>\n",
       "      <th>2</th>\n",
       "      <td>2</td>\n",
       "      <td>Kevin Rodriguez</td>\n",
       "      <td>M</td>\n",
       "      <td>12th</td>\n",
       "      <td>Huang High School</td>\n",
       "      <td>90</td>\n",
       "      <td>60</td>\n",
       "      <td>0</td>\n",
       "      <td>District</td>\n",
       "      <td>2917</td>\n",
       "      <td>1910635</td>\n",
       "    </tr>\n",
       "    <tr>\n",
       "      <th>3</th>\n",
       "      <td>3</td>\n",
       "      <td>Dr. Richard Scott</td>\n",
       "      <td>M</td>\n",
       "      <td>12th</td>\n",
       "      <td>Huang High School</td>\n",
       "      <td>67</td>\n",
       "      <td>58</td>\n",
       "      <td>0</td>\n",
       "      <td>District</td>\n",
       "      <td>2917</td>\n",
       "      <td>1910635</td>\n",
       "    </tr>\n",
       "    <tr>\n",
       "      <th>4</th>\n",
       "      <td>4</td>\n",
       "      <td>Bonnie Ray</td>\n",
       "      <td>F</td>\n",
       "      <td>9th</td>\n",
       "      <td>Huang High School</td>\n",
       "      <td>97</td>\n",
       "      <td>84</td>\n",
       "      <td>0</td>\n",
       "      <td>District</td>\n",
       "      <td>2917</td>\n",
       "      <td>1910635</td>\n",
       "    </tr>\n",
       "  </tbody>\n",
       "</table>\n",
       "</div>"
      ],
      "text/plain": [
       "   Student ID       student_name gender grade        school_name  \\\n",
       "0           0       Paul Bradley      M   9th  Huang High School   \n",
       "1           1       Victor Smith      M  12th  Huang High School   \n",
       "2           2    Kevin Rodriguez      M  12th  Huang High School   \n",
       "3           3  Dr. Richard Scott      M  12th  Huang High School   \n",
       "4           4         Bonnie Ray      F   9th  Huang High School   \n",
       "\n",
       "   reading_score  math_score  School ID      type  size   budget  \n",
       "0             66          79          0  District  2917  1910635  \n",
       "1             94          61          0  District  2917  1910635  \n",
       "2             90          60          0  District  2917  1910635  \n",
       "3             67          58          0  District  2917  1910635  \n",
       "4             97          84          0  District  2917  1910635  "
      ]
     },
     "execution_count": 3,
     "metadata": {},
     "output_type": "execute_result"
    }
   ],
   "source": [
    "df = school_data_complete.copy()\n",
    "df.head()"
   ]
  },
  {
   "cell_type": "code",
   "execution_count": 4,
   "metadata": {},
   "outputs": [
    {
     "name": "stdout",
     "output_type": "stream",
     "text": [
      "Total schools = 15\n"
     ]
    }
   ],
   "source": [
    "## District Summary\n",
    "\n",
    "# Calculate the total number of schools\n",
    "\n",
    "total_schools = df[\"school_name\"].nunique()\n",
    "\n",
    "print(f\"Total schools = {total_schools}\")"
   ]
  },
  {
   "cell_type": "code",
   "execution_count": 5,
   "metadata": {},
   "outputs": [
    {
     "name": "stdout",
     "output_type": "stream",
     "text": [
      "Total students = 39170\n"
     ]
    }
   ],
   "source": [
    "## District Summary\n",
    "\n",
    "# Calculate the total number of students\n",
    "\n",
    "total_students = df[\"student_name\"].count()\n",
    "\n",
    "print(f\"Total students = {total_students}\")"
   ]
  },
  {
   "cell_type": "code",
   "execution_count": 7,
   "metadata": {},
   "outputs": [
    {
     "name": "stdout",
     "output_type": "stream",
     "text": [
      "Total budget = 24649428\n"
     ]
    }
   ],
   "source": [
    "## District Summary\n",
    "\n",
    "# Calculate the total budget\n",
    "\n",
    "def sum_unique(obj):\n",
    "    return sum(obj.unique())\n",
    "\n",
    "total_budget = sum_unique(df[\"budget\"])\n",
    "\n",
    "print(f\"Total budget = {total_budget}\")"
   ]
  },
  {
   "cell_type": "code",
   "execution_count": 8,
   "metadata": {},
   "outputs": [
    {
     "name": "stdout",
     "output_type": "stream",
     "text": [
      "Average math score = 78.98537145774827\n"
     ]
    }
   ],
   "source": [
    "## District Summary\n",
    "\n",
    "# Calculate the average math score\n",
    "\n",
    "avg_mscore = df[\"math_score\"].mean()\n",
    "\n",
    "print(f\"Average math score = {avg_mscore}\")"
   ]
  },
  {
   "cell_type": "code",
   "execution_count": 9,
   "metadata": {},
   "outputs": [
    {
     "name": "stdout",
     "output_type": "stream",
     "text": [
      "Average reading score = 81.87784018381414\n"
     ]
    }
   ],
   "source": [
    "## District Summary\n",
    "\n",
    "# Calculate the average reading score\n",
    "\n",
    "avg_rscore = df[\"reading_score\"].mean()\n",
    "\n",
    "print(f\"Average reading score = {avg_rscore}\")"
   ]
  },
  {
   "cell_type": "code",
   "execution_count": 10,
   "metadata": {},
   "outputs": [
    {
     "name": "stdout",
     "output_type": "stream",
     "text": [
      "Total pass math = 29370\n",
      "Total fail math = 9800\n",
      "39170\n",
      "Adds up? True\n",
      "Total % pass math = 74.9808526933878\n"
     ]
    }
   ],
   "source": [
    "## District Summary\n",
    "\n",
    "# Calculate the percentage of students with a passing math score (70 or greater)\n",
    "\n",
    "total_pass_math = len(df[df[\"math_score\"] >= 70])\n",
    "total_fail_math = len(df[df[\"math_score\"] < 70])\n",
    "\n",
    "total_take_math = total_pass_math + total_fail_math\n",
    "\n",
    "print(f\"Total pass math = {total_pass_math}\")\n",
    "print(f\"Total fail math = {total_fail_math}\")\n",
    "\n",
    "print(total_pass_math + total_fail_math)              \n",
    "\n",
    "print(f\"Adds up? {total_students == total_pass_math + total_fail_math}\") \n",
    "\n",
    "per_pmath = (total_pass_math / total_take_math) * 100\n",
    "\n",
    "print(f\"Total % pass math = {per_pmath}\")"
   ]
  },
  {
   "cell_type": "code",
   "execution_count": 11,
   "metadata": {},
   "outputs": [
    {
     "name": "stdout",
     "output_type": "stream",
     "text": [
      "Total pass reading = 33610\n",
      "Total fail reading = 5560\n",
      "39170\n",
      "Adds up? True\n",
      "Total % pass reading = 85.80546336482001\n"
     ]
    }
   ],
   "source": [
    "## District Summary\n",
    "\n",
    "# Calculate the percentage of students with a passing reading score (70 or greater)\n",
    "\n",
    "total_pass_reading = len(df[df[\"reading_score\"] >= 70])\n",
    "total_fail_reading = len(df[df[\"reading_score\"] < 70])\n",
    "\n",
    "total_take_reading = total_pass_reading + total_fail_reading\n",
    "\n",
    "print(f\"Total pass reading = {total_pass_reading}\")\n",
    "print(f\"Total fail reading = {total_fail_reading}\")\n",
    "\n",
    "print(total_pass_reading + total_fail_reading)              \n",
    "print(f\"Adds up? {total_students == total_pass_reading + total_fail_reading}\") \n",
    "\n",
    "per_preading = (total_pass_reading / total_take_reading) * 100\n",
    "\n",
    "print(f\"Total % pass reading = {per_preading}\")\n"
   ]
  },
  {
   "cell_type": "code",
   "execution_count": 12,
   "metadata": {},
   "outputs": [
    {
     "name": "stdout",
     "output_type": "stream",
     "text": [
      "Total pass both = 25528\n",
      "Total take both = 39170\n",
      "Total % pass both = 65.17232575950983\n"
     ]
    }
   ],
   "source": [
    "## District Summary\n",
    "\n",
    "# Calculate the percentage of students who passed math and reading (% Overall Passing)\n",
    "\n",
    "total_pass_both = len(      df[   (df[\"reading_score\"] >= 70) & (df[\"math_score\"] >= 70) ]   )\n",
    "\n",
    "total_take_both = total_students    \n",
    "\n",
    "print(f\"Total pass both = {total_pass_both}\")\n",
    "print(f\"Total take both = {total_take_both}\")\n",
    "\n",
    "per_pboth = (total_pass_both / total_take_both) * 100\n",
    "\n",
    "print(f\"Total % pass both = {per_pboth}\")"
   ]
  },
  {
   "cell_type": "markdown",
   "metadata": {},
   "source": [
    "## District Summary\n",
    "\n",
    "* Calculate the total number of schools\n",
    "\n",
    "* Calculate the total number of students\n",
    "\n",
    "* Calculate the total budget\n",
    "\n",
    "* Calculate the average math score \n",
    "\n",
    "* Calculate the average reading score\n",
    "\n",
    "* Calculate the percentage of students with a passing math score (70 or greater)\n",
    "\n",
    "* Calculate the percentage of students with a passing reading score (70 or greater)\n",
    "\n",
    "* Calculate the percentage of students who passed math **and** reading (% Overall Passing)\n",
    "\n",
    "* Create a dataframe to hold the above results\n",
    "\n",
    "* Optional: give the displayed data cleaner formatting"
   ]
  },
  {
   "cell_type": "code",
   "execution_count": 38,
   "metadata": {},
   "outputs": [
    {
     "data": {
      "text/html": [
       "<div>\n",
       "<style scoped>\n",
       "    .dataframe tbody tr th:only-of-type {\n",
       "        vertical-align: middle;\n",
       "    }\n",
       "\n",
       "    .dataframe tbody tr th {\n",
       "        vertical-align: top;\n",
       "    }\n",
       "\n",
       "    .dataframe thead th {\n",
       "        text-align: right;\n",
       "    }\n",
       "</style>\n",
       "<table border=\"1\" class=\"dataframe\">\n",
       "  <thead>\n",
       "    <tr style=\"text-align: right;\">\n",
       "      <th></th>\n",
       "      <th>Total Budget</th>\n",
       "      <th>Total Schools</th>\n",
       "      <th>Total Students</th>\n",
       "      <th>Average Math Score</th>\n",
       "      <th>Average Reading Score</th>\n",
       "      <th>% Passing Math</th>\n",
       "      <th>% Passing Reading</th>\n",
       "      <th>% Overall Passing</th>\n",
       "    </tr>\n",
       "  </thead>\n",
       "  <tbody>\n",
       "    <tr>\n",
       "      <th>0</th>\n",
       "      <td>$24,649,428</td>\n",
       "      <td>15</td>\n",
       "      <td>39,170</td>\n",
       "      <td>78.99</td>\n",
       "      <td>81.88</td>\n",
       "      <td>74.98%</td>\n",
       "      <td>85.81%</td>\n",
       "      <td>65.17%</td>\n",
       "    </tr>\n",
       "  </tbody>\n",
       "</table>\n",
       "</div>"
      ],
      "text/plain": [
       "  Total Budget Total Schools Total Students Average Math Score  \\\n",
       "0  $24,649,428            15         39,170              78.99   \n",
       "\n",
       "  Average Reading Score % Passing Math % Passing Reading % Overall Passing  \n",
       "0                 81.88         74.98%            85.81%            65.17%  "
      ]
     },
     "execution_count": 38,
     "metadata": {},
     "output_type": "execute_result"
    }
   ],
   "source": [
    "## District Summary\n",
    "\n",
    "# Create a dataframe to hold the above results\n",
    "\n",
    "district_summary = pd.DataFrame(\n",
    "    \n",
    "    {\n",
    "        \"Total Schools\" : [total_schools],\n",
    "        \"Total Students\" : [total_students],\n",
    "        \"Total Budget\" : [total_budget],\n",
    "        \"Average Math Score\" : [avg_mscore],\n",
    "        \"Average Reading Score\" : [avg_rscore],\n",
    "        \"% Passing Math\" : [per_pmath],\n",
    "        \"% Passing Reading\" : [per_preading],\n",
    "        \"% Overall Passing\" : [per_pboth],                   \n",
    "    }\n",
    "      \n",
    ")   \n",
    "\n",
    "# district_summary\n",
    "df = pd.DataFrame()\n",
    "\n",
    "df[\"Total Budget\"] = district_summary[\"Total Budget\"].map(\"${:,}\".format)\n",
    "df[\"Total Schools\"] = district_summary[\"Total Schools\"].map(\"{:,}\".format)\n",
    "df[\"Total Students\"] = district_summary[\"Total Students\"].map(\"{:,}\".format)\n",
    "df[\"Average Math Score\"] = district_summary[\"Average Math Score\"].map(\"{:,.2f}\".format)\n",
    "df[\"Average Reading Score\"] = district_summary[\"Average Reading Score\"].map(\"{:,.2f}\".format)\n",
    "df[\"% Passing Math\"] = district_summary[\"% Passing Math\"].map(\"{:,.2f}%\".format)\n",
    "df[\"% Passing Reading\"] = district_summary[\"% Passing Reading\"].map(\"{:,.2f}%\".format)\n",
    "df[\"% Overall Passing\"] = district_summary[\"% Overall Passing\"].map(\"{:,.2f}%\".format)\n",
    "\n",
    "df"
   ]
  },
  {
   "cell_type": "markdown",
   "metadata": {},
   "source": [
    "## School Summary"
   ]
  },
  {
   "cell_type": "markdown",
   "metadata": {},
   "source": [
    "* Create an overview table that summarizes key metrics about each school, including:\n",
    "  * School Name\n",
    "  * School Type\n",
    "  * Total Students\n",
    "  * Total School Budget\n",
    "  * Per Student Budget\n",
    "  * Average Math Score\n",
    "  * Average Reading Score\n",
    "  * % Passing Math\n",
    "  * % Passing Reading\n",
    "  * % Overall Passing (The percentage of students that passed math **and** reading.)\n",
    "  \n",
    "* Create a dataframe to hold the above results"
   ]
  },
  {
   "cell_type": "code",
   "execution_count": null,
   "metadata": {},
   "outputs": [],
   "source": [
    "# School Summary\n",
    "# Create an overview table that summarizes key metrics about each school, including:\n",
    "\n",
    "# School Name (make index)\n",
    "# School Type\n",
    "# Total Students\n",
    "# Total School Budget\n",
    "# Per Student Budget\n",
    "# Average Math Score\n",
    "# Average Reading Score\n",
    "# % Passing Math\n",
    "# % Passing Reading\n",
    "# % Overall Passing (The percentage of students that passed math and reading.)\n",
    "# Create a dataframe to hold the above results\n",
    "\n",
    "df = school_data_complete.copy()\n",
    "\n",
    "df1 = df.loc[:, [\"school_name\", \"size\", \"budget\", \"math_score\", \"reading_score\"]]\n",
    "\n",
    "df1 = df1.groupby(\"school_name\").mean()\n",
    "df1\n"
   ]
  },
  {
   "cell_type": "code",
   "execution_count": null,
   "metadata": {},
   "outputs": [],
   "source": [
    "s = df[df[\"math_score\"] >= 70].sort_values(\"math_score\").groupby(\"school_name\")[\"math_score\"].count()\n",
    "\n",
    "df1[\"num mpassers\"] = s\n",
    "\n",
    "df1[\"% Passing Math\"] = df1[\"num mpassers\"] / df1[\"size\"] * 100\n",
    "\n",
    "s = df[df[\"reading_score\"] >= 70].sort_values(\"reading_score\").groupby(\"school_name\")[\"reading_score\"].count()\n",
    "\n",
    "df1[\"num rpassers\"] = s\n",
    "\n",
    "df1[\"% Passing Reading\"] = df1[\"num rpassers\"] / df1[\"size\"] * 100\n",
    "\n",
    "df1"
   ]
  },
  {
   "cell_type": "code",
   "execution_count": null,
   "metadata": {},
   "outputs": [],
   "source": [
    "s = df[ (df[\"math_score\"] >= 70) & (df[\"reading_score\"] >= 70) ].groupby(\"school_name\")[\"math_score\"].count()\n",
    "\n",
    "df1[\"num bothpassers\"] = s\n",
    "\n",
    "df1[\"% Overall Passing\"] = df1[\"num bothpassers\"] / df1[\"size\"] * 100\n",
    "\n",
    "df1"
   ]
  },
  {
   "cell_type": "code",
   "execution_count": null,
   "metadata": {},
   "outputs": [],
   "source": [
    "df = school_data_complete.copy()\n",
    "\n",
    "s = df.groupby(\"school_name\")[\"type\"].max()\n",
    "\n",
    "df1[\"School Type\"] = s\n",
    "\n",
    "df1"
   ]
  },
  {
   "cell_type": "code",
   "execution_count": null,
   "metadata": {
    "scrolled": true
   },
   "outputs": [],
   "source": [
    "df1[\"Per Student Budget\"] = df1[\"budget\"] / df1[\"size\"] \n",
    "\n",
    "df1"
   ]
  },
  {
   "cell_type": "code",
   "execution_count": null,
   "metadata": {},
   "outputs": [],
   "source": [
    "school_summary = df1[ [\"School Type\", \"size\", \"budget\", \"Per Student Budget\", \"math_score\", \"reading_score\", \n",
    "                      \n",
    "                      \"% Passing Math\", \"% Passing Reading\", \"% Overall Passing\"]  ]\n",
    "\n",
    "school_summary = school_summary.rename(columns={\"size\":\"Total Students\", \"budget\":\"Total School Budget\",\n",
    "                      \"math_score\":\"Average Math Score\", \"reading_score\":\"Average Reading Score\", \n",
    "                      })\n",
    "\n",
    "school_summary = school_summary.rename_axis(None, axis = 0)\n",
    "\n",
    "school_summary"
   ]
  },
  {
   "cell_type": "markdown",
   "metadata": {},
   "source": [
    "## Top Performing Schools (By % Overall Passing)"
   ]
  },
  {
   "cell_type": "markdown",
   "metadata": {},
   "source": [
    "* Sort and display the top five performing schools by % overall passing."
   ]
  },
  {
   "cell_type": "code",
   "execution_count": null,
   "metadata": {},
   "outputs": [],
   "source": [
    "df = school_summary\n",
    "\n",
    "df.sort_values(\"% Overall Passing\", ascending=False).iloc[0:5]"
   ]
  },
  {
   "cell_type": "markdown",
   "metadata": {},
   "source": [
    "## Bottom Performing Schools (By % Overall Passing)"
   ]
  },
  {
   "cell_type": "markdown",
   "metadata": {},
   "source": [
    "* Sort and display the five worst-performing schools by % overall passing."
   ]
  },
  {
   "cell_type": "code",
   "execution_count": null,
   "metadata": {},
   "outputs": [],
   "source": [
    "df.sort_values(\"% Overall Passing\", ascending=True).iloc[0:5]"
   ]
  },
  {
   "cell_type": "markdown",
   "metadata": {
    "collapsed": true
   },
   "source": [
    "## Math Scores by Grade"
   ]
  },
  {
   "cell_type": "markdown",
   "metadata": {},
   "source": [
    "* Create a table that lists the average Reading Score for students of each grade level (9th, 10th, 11th, 12th) at each school.\n",
    "\n",
    "  * Create a pandas series for each grade. Hint: use a conditional statement.\n",
    "  \n",
    "  * Group each series by school\n",
    "  \n",
    "  * Combine the series into a dataframe\n",
    "  \n",
    "  * Optional: give the displayed data cleaner formatting"
   ]
  },
  {
   "cell_type": "code",
   "execution_count": null,
   "metadata": {},
   "outputs": [],
   "source": [
    "df = school_data_complete.copy()\n",
    "df"
   ]
  },
  {
   "cell_type": "code",
   "execution_count": null,
   "metadata": {},
   "outputs": [],
   "source": [
    "\n",
    "s9 = pd.Series(df[\"grade\"] == \"9th\")\n",
    "s10 = pd.Series(df[\"grade\"] == \"10th\")\n",
    "s11 = pd.Series(df[\"grade\"] == \"11th\")\n",
    "s12 = pd.Series(df[\"grade\"] == \"12th\")\n",
    "\n",
    "df9 = df.loc[s9, :].groupby(\"school_name\")[\"math_score\"].mean()\n",
    "df10 = df.loc[s10, :].groupby(\"school_name\")[\"math_score\"].mean()\n",
    "df11 = df.loc[s11, :].groupby(\"school_name\")[\"math_score\"].mean()\n",
    "df12 = df.loc[s12, :].groupby(\"school_name\")[\"math_score\"].mean()\n",
    "\n",
    "new_ = pd.merge(df9, df10, on=\"school_name\")\n",
    "\n",
    "new_df = pd.merge(df11, df12, on=\"school_name\")\n",
    "\n",
    "finalmath_df = pd.merge(new_, new_df, on=\"school_name\")\n",
    "\n",
    "finalmath_df\n",
    "\n",
    "\n"
   ]
  },
  {
   "cell_type": "markdown",
   "metadata": {},
   "source": [
    "## Reading Score by Grade "
   ]
  },
  {
   "cell_type": "markdown",
   "metadata": {},
   "source": [
    "* Perform the same operations as above for reading scores"
   ]
  },
  {
   "cell_type": "code",
   "execution_count": null,
   "metadata": {},
   "outputs": [],
   "source": [
    "s9 = pd.Series(df[\"grade\"] == \"9th\")\n",
    "s10 = pd.Series(df[\"grade\"] == \"10th\")\n",
    "s11 = pd.Series(df[\"grade\"] == \"11th\")\n",
    "s12 = pd.Series(df[\"grade\"] == \"12th\")\n",
    "\n",
    "df9 = df.loc[s9, :].groupby(\"school_name\")[\"reading_score\"].mean()\n",
    "df10 = df.loc[s10, :].groupby(\"school_name\")[\"reading_score\"].mean()\n",
    "df11 = df.loc[s11, :].groupby(\"school_name\")[\"reading_score\"].mean()\n",
    "df12 = df.loc[s12, :].groupby(\"school_name\")[\"reading_score\"].mean()\n",
    "\n",
    "new_ = pd.merge(df9, df10, on=\"school_name\")\n",
    "\n",
    "new_df = pd.merge(df11, df12, on=\"school_name\")\n",
    "\n",
    "finalreading_df = pd.merge(new_, new_df, on=\"school_name\")\n",
    "\n",
    "finalreading_df"
   ]
  },
  {
   "cell_type": "markdown",
   "metadata": {},
   "source": [
    "## Scores by School Spending"
   ]
  },
  {
   "cell_type": "markdown",
   "metadata": {},
   "source": [
    "* Create a table that breaks down school performances based on average Spending Ranges (Per Student). Use 4 reasonable bins to group school spending. Include in the table each of the following:\n",
    "  * Average Math Score\n",
    "  * Average Reading Score\n",
    "  * % Passing Math\n",
    "  * % Passing Reading\n",
    "  * Overall Passing Rate (Average of the above two)"
   ]
  },
  {
   "cell_type": "code",
   "execution_count": null,
   "metadata": {},
   "outputs": [],
   "source": [
    "df = school_summary.copy()\n",
    "\n",
    "\n",
    "\n",
    "df = df[[\"Per Student Budget\", \"Average Math Score\", \"Average Reading Score\", \"% Passing Math\", \"% Passing Reading\", \"% Overall Passing\"]]\n",
    "\n",
    "bins = [0, 584, 629, 644, 679]\n",
    "labels = [\"<$585\", \"$585-630\", \"$630-645\", \"$645-680\"]\n",
    "\n",
    "df[\"Per Student Budget Summary\"] = pd.cut(df[\"Per Student Budget\"], bins, labels=labels, include_lowest=True)\n",
    "\n",
    "budget_group = df.groupby(\"Per Student Budget Summary\")\n",
    "new_df = budget_group.mean()\n",
    "del new_df[\"Per Student Budget\"]\n",
    "new_df"
   ]
  },
  {
   "cell_type": "markdown",
   "metadata": {},
   "source": [
    "## Scores by School Size"
   ]
  },
  {
   "cell_type": "markdown",
   "metadata": {},
   "source": [
    "* Perform the same operations as above, based on school size."
   ]
  },
  {
   "cell_type": "code",
   "execution_count": null,
   "metadata": {
    "scrolled": true
   },
   "outputs": [],
   "source": [
    "df = school_summary.copy()\n",
    "\n",
    "df = df[[\"Total Students\", \"Average Math Score\", \"Average Reading Score\", \"% Passing Math\", \"% Passing Reading\", \"% Overall Passing\"]]\n",
    "\n",
    "df\n",
    "\n",
    "bins = [0, 999, 1999, 4999]\n",
    "labels = [\"Small (<1000)\", \"Medium (1000-2000)\", \"Large (2000-5000)\"]\n",
    "\n",
    "df[\"School Size\"] = pd.cut(df[\"Total Students\"], bins, labels=labels, include_lowest=True)\n",
    "\n",
    "totalstudents_group = df.groupby(\"School Size\")\n",
    "new_df = totalstudents_group.mean()\n",
    "del new_df[\"Total Students\"]\n",
    "new_df"
   ]
  },
  {
   "cell_type": "markdown",
   "metadata": {},
   "source": [
    "## Scores by School Type"
   ]
  },
  {
   "cell_type": "markdown",
   "metadata": {},
   "source": [
    "* Perform the same operations as above, based on school type"
   ]
  },
  {
   "cell_type": "code",
   "execution_count": null,
   "metadata": {},
   "outputs": [],
   "source": [
    "df = school_summary.copy()\n",
    "\n",
    "df = df[[\"School Type\", \"Average Math Score\", \"Average Reading Score\", \"% Passing Math\", \"% Passing Reading\", \"% Overall Passing\"]]\n",
    "\n",
    "df\n",
    "\n",
    "types_group = df.groupby(\"School Type\")\n",
    "new_df = types_group.mean()\n",
    "new_df\n"
   ]
  }
 ],
 "metadata": {
  "anaconda-cloud": {},
  "kernel_info": {
   "name": "python3"
  },
  "kernelspec": {
   "display_name": "PythonData38",
   "language": "python",
   "name": "pythondata38"
  },
  "language_info": {
   "codemirror_mode": {
    "name": "ipython",
    "version": 3
   },
   "file_extension": ".py",
   "mimetype": "text/x-python",
   "name": "python",
   "nbconvert_exporter": "python",
   "pygments_lexer": "ipython3",
   "version": "3.9.12"
  },
  "latex_envs": {
   "LaTeX_envs_menu_present": true,
   "autoclose": false,
   "autocomplete": true,
   "bibliofile": "biblio.bib",
   "cite_by": "apalike",
   "current_citInitial": 1,
   "eqLabelWithNumbers": true,
   "eqNumInitial": 1,
   "hotkeys": {
    "equation": "Ctrl-E",
    "itemize": "Ctrl-I"
   },
   "labels_anchors": false,
   "latex_user_defs": false,
   "report_style_numbering": false,
   "user_envs_cfg": false
  },
  "nteract": {
   "version": "0.8.4"
  }
 },
 "nbformat": 4,
 "nbformat_minor": 1
}
